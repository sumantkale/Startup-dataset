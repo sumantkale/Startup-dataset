{
  "cells": [
    {
      "cell_type": "markdown",
      "source": [
        "#  *** Indian startups case study 1***"
      ],
      "metadata": {
        "id": "UHm4W_DS5iet"
      }
    },
    {
      "cell_type": "code",
      "execution_count": null,
      "metadata": {
        "id": "RnBJtaJAJakH"
      },
      "outputs": [],
      "source": [
        "import numpy as np\n",
        "import pandas as pd\n",
        "import matplotlib.pyplot as plt"
      ]
    },
    {
      "cell_type": "code",
      "execution_count": null,
      "metadata": {
        "colab": {
          "base_uri": "https://localhost:8080/",
          "height": 105
        },
        "id": "BgEW2nU6JakK",
        "outputId": "15799b7d-2caf-4a49-e3ff-b20168d92734"
      },
      "outputs": [
        {
          "output_type": "execute_result",
          "data": {
            "text/plain": [
              "' This dataset has funding information of the Indian startups from January 2015 to August 2017.\\nFeature Details :\\nSNo - Serial number.\\nDate - Date of funding in format DD/MM/YYYY.\\nStartupName - Name of the startup which got funded.\\nIndustryVertical - Industry to which the startup belongs.\\nSubVertical - Sub-category of the industry type.\\nCityLocation - City which the startup is based out of.\\nInvestorsName - Name of the investors involved in the funding round.\\nInvestmentType - Either Private Equity or Seed Funding.\\nAmountInUSD - Funding Amount in USD.\\nRemarks - Other information, if any.\\n'"
            ],
            "application/vnd.google.colaboratory.intrinsic+json": {
              "type": "string"
            }
          },
          "metadata": {},
          "execution_count": 3
        }
      ],
      "source": [
        "''' This dataset has funding information of the Indian startups from January 2015 to August 2017.\n",
        "Feature Details :\n",
        "SNo - Serial number.\n",
        "Date - Date of funding in format DD/MM/YYYY.\n",
        "StartupName - Name of the startup which got funded.\n",
        "IndustryVertical - Industry to which the startup belongs.\n",
        "SubVertical - Sub-category of the industry type.\n",
        "CityLocation - City which the startup is based out of.\n",
        "InvestorsName - Name of the investors involved in the funding round.\n",
        "InvestmentType - Either Private Equity or Seed Funding.\n",
        "AmountInUSD - Funding Amount in USD.\n",
        "Remarks - Other information, if any.\n",
        "'''"
      ]
    },
    {
      "cell_type": "markdown",
      "metadata": {
        "id": "GQKuOwBPJakM"
      },
      "source": [
        "### Printing the top 5 rows of the dataframe to have a glimpse of what type of data is stored."
      ]
    },
    {
      "cell_type": "code",
      "execution_count": null,
      "metadata": {
        "colab": {
          "base_uri": "https://localhost:8080/",
          "height": 336
        },
        "id": "wOsMUmQTJakN",
        "outputId": "114b4247-4e47-4f8c-81ef-e8a608eafd5a"
      },
      "outputs": [
        {
          "output_type": "execute_result",
          "data": {
            "text/plain": [
              "   Sr No Date dd/mm/yyyy                  Startup Name    Industry Vertical  \\\n",
              "0      1      09/01/2020                        BYJU’S               E-Tech   \n",
              "1      2      13/01/2020                        Shuttl       Transportation   \n",
              "2      3      09/01/2020                     Mamaearth           E-commerce   \n",
              "3      4      02/01/2020  https://www.wealthbucket.in/              FinTech   \n",
              "4      5      02/01/2020                        Fashor  Fashion and Apparel   \n",
              "\n",
              "                             SubVertical City  Location  \\\n",
              "0                             E-learning      Bengaluru   \n",
              "1              App based shuttle service        Gurgaon   \n",
              "2  Retailer of baby and toddler products      Bengaluru   \n",
              "3                      Online Investment      New Delhi   \n",
              "4            Embroiled Clothes For Women         Mumbai   \n",
              "\n",
              "              Investors Name       InvestmentnType Amount in USD Remarks  \n",
              "0    Tiger Global Management  Private Equity Round  20,00,00,000     NaN  \n",
              "1  Susquehanna Growth Equity              Series C     80,48,394     NaN  \n",
              "2      Sequoia Capital India              Series B   1,83,58,860     NaN  \n",
              "3             Vinod Khatumal          Pre-series A     30,00,000     NaN  \n",
              "4    Sprout Venture Partners            Seed Round     18,00,000     NaN  "
            ],
            "text/html": [
              "\n",
              "\n",
              "  <div id=\"df-d2330fa1-0049-40fd-b7ff-06ee333a810a\">\n",
              "    <div class=\"colab-df-container\">\n",
              "      <div>\n",
              "<style scoped>\n",
              "    .dataframe tbody tr th:only-of-type {\n",
              "        vertical-align: middle;\n",
              "    }\n",
              "\n",
              "    .dataframe tbody tr th {\n",
              "        vertical-align: top;\n",
              "    }\n",
              "\n",
              "    .dataframe thead th {\n",
              "        text-align: right;\n",
              "    }\n",
              "</style>\n",
              "<table border=\"1\" class=\"dataframe\">\n",
              "  <thead>\n",
              "    <tr style=\"text-align: right;\">\n",
              "      <th></th>\n",
              "      <th>Sr No</th>\n",
              "      <th>Date dd/mm/yyyy</th>\n",
              "      <th>Startup Name</th>\n",
              "      <th>Industry Vertical</th>\n",
              "      <th>SubVertical</th>\n",
              "      <th>City  Location</th>\n",
              "      <th>Investors Name</th>\n",
              "      <th>InvestmentnType</th>\n",
              "      <th>Amount in USD</th>\n",
              "      <th>Remarks</th>\n",
              "    </tr>\n",
              "  </thead>\n",
              "  <tbody>\n",
              "    <tr>\n",
              "      <th>0</th>\n",
              "      <td>1</td>\n",
              "      <td>09/01/2020</td>\n",
              "      <td>BYJU’S</td>\n",
              "      <td>E-Tech</td>\n",
              "      <td>E-learning</td>\n",
              "      <td>Bengaluru</td>\n",
              "      <td>Tiger Global Management</td>\n",
              "      <td>Private Equity Round</td>\n",
              "      <td>20,00,00,000</td>\n",
              "      <td>NaN</td>\n",
              "    </tr>\n",
              "    <tr>\n",
              "      <th>1</th>\n",
              "      <td>2</td>\n",
              "      <td>13/01/2020</td>\n",
              "      <td>Shuttl</td>\n",
              "      <td>Transportation</td>\n",
              "      <td>App based shuttle service</td>\n",
              "      <td>Gurgaon</td>\n",
              "      <td>Susquehanna Growth Equity</td>\n",
              "      <td>Series C</td>\n",
              "      <td>80,48,394</td>\n",
              "      <td>NaN</td>\n",
              "    </tr>\n",
              "    <tr>\n",
              "      <th>2</th>\n",
              "      <td>3</td>\n",
              "      <td>09/01/2020</td>\n",
              "      <td>Mamaearth</td>\n",
              "      <td>E-commerce</td>\n",
              "      <td>Retailer of baby and toddler products</td>\n",
              "      <td>Bengaluru</td>\n",
              "      <td>Sequoia Capital India</td>\n",
              "      <td>Series B</td>\n",
              "      <td>1,83,58,860</td>\n",
              "      <td>NaN</td>\n",
              "    </tr>\n",
              "    <tr>\n",
              "      <th>3</th>\n",
              "      <td>4</td>\n",
              "      <td>02/01/2020</td>\n",
              "      <td>https://www.wealthbucket.in/</td>\n",
              "      <td>FinTech</td>\n",
              "      <td>Online Investment</td>\n",
              "      <td>New Delhi</td>\n",
              "      <td>Vinod Khatumal</td>\n",
              "      <td>Pre-series A</td>\n",
              "      <td>30,00,000</td>\n",
              "      <td>NaN</td>\n",
              "    </tr>\n",
              "    <tr>\n",
              "      <th>4</th>\n",
              "      <td>5</td>\n",
              "      <td>02/01/2020</td>\n",
              "      <td>Fashor</td>\n",
              "      <td>Fashion and Apparel</td>\n",
              "      <td>Embroiled Clothes For Women</td>\n",
              "      <td>Mumbai</td>\n",
              "      <td>Sprout Venture Partners</td>\n",
              "      <td>Seed Round</td>\n",
              "      <td>18,00,000</td>\n",
              "      <td>NaN</td>\n",
              "    </tr>\n",
              "  </tbody>\n",
              "</table>\n",
              "</div>\n",
              "      <button class=\"colab-df-convert\" onclick=\"convertToInteractive('df-d2330fa1-0049-40fd-b7ff-06ee333a810a')\"\n",
              "              title=\"Convert this dataframe to an interactive table.\"\n",
              "              style=\"display:none;\">\n",
              "\n",
              "  <svg xmlns=\"http://www.w3.org/2000/svg\" height=\"24px\"viewBox=\"0 0 24 24\"\n",
              "       width=\"24px\">\n",
              "    <path d=\"M0 0h24v24H0V0z\" fill=\"none\"/>\n",
              "    <path d=\"M18.56 5.44l.94 2.06.94-2.06 2.06-.94-2.06-.94-.94-2.06-.94 2.06-2.06.94zm-11 1L8.5 8.5l.94-2.06 2.06-.94-2.06-.94L8.5 2.5l-.94 2.06-2.06.94zm10 10l.94 2.06.94-2.06 2.06-.94-2.06-.94-.94-2.06-.94 2.06-2.06.94z\"/><path d=\"M17.41 7.96l-1.37-1.37c-.4-.4-.92-.59-1.43-.59-.52 0-1.04.2-1.43.59L10.3 9.45l-7.72 7.72c-.78.78-.78 2.05 0 2.83L4 21.41c.39.39.9.59 1.41.59.51 0 1.02-.2 1.41-.59l7.78-7.78 2.81-2.81c.8-.78.8-2.07 0-2.86zM5.41 20L4 18.59l7.72-7.72 1.47 1.35L5.41 20z\"/>\n",
              "  </svg>\n",
              "      </button>\n",
              "\n",
              "\n",
              "\n",
              "    <div id=\"df-19951c60-d703-4b9d-b1ba-5b7918354be1\">\n",
              "      <button class=\"colab-df-quickchart\" onclick=\"quickchart('df-19951c60-d703-4b9d-b1ba-5b7918354be1')\"\n",
              "              title=\"Suggest charts.\"\n",
              "              style=\"display:none;\">\n",
              "\n",
              "<svg xmlns=\"http://www.w3.org/2000/svg\" height=\"24px\"viewBox=\"0 0 24 24\"\n",
              "     width=\"24px\">\n",
              "    <g>\n",
              "        <path d=\"M19 3H5c-1.1 0-2 .9-2 2v14c0 1.1.9 2 2 2h14c1.1 0 2-.9 2-2V5c0-1.1-.9-2-2-2zM9 17H7v-7h2v7zm4 0h-2V7h2v10zm4 0h-2v-4h2v4z\"/>\n",
              "    </g>\n",
              "</svg>\n",
              "      </button>\n",
              "    </div>\n",
              "\n",
              "<style>\n",
              "  .colab-df-quickchart {\n",
              "    background-color: #E8F0FE;\n",
              "    border: none;\n",
              "    border-radius: 50%;\n",
              "    cursor: pointer;\n",
              "    display: none;\n",
              "    fill: #1967D2;\n",
              "    height: 32px;\n",
              "    padding: 0 0 0 0;\n",
              "    width: 32px;\n",
              "  }\n",
              "\n",
              "  .colab-df-quickchart:hover {\n",
              "    background-color: #E2EBFA;\n",
              "    box-shadow: 0px 1px 2px rgba(60, 64, 67, 0.3), 0px 1px 3px 1px rgba(60, 64, 67, 0.15);\n",
              "    fill: #174EA6;\n",
              "  }\n",
              "\n",
              "  [theme=dark] .colab-df-quickchart {\n",
              "    background-color: #3B4455;\n",
              "    fill: #D2E3FC;\n",
              "  }\n",
              "\n",
              "  [theme=dark] .colab-df-quickchart:hover {\n",
              "    background-color: #434B5C;\n",
              "    box-shadow: 0px 1px 3px 1px rgba(0, 0, 0, 0.15);\n",
              "    filter: drop-shadow(0px 1px 2px rgba(0, 0, 0, 0.3));\n",
              "    fill: #FFFFFF;\n",
              "  }\n",
              "</style>\n",
              "\n",
              "    <script>\n",
              "      async function quickchart(key) {\n",
              "        const containerElement = document.querySelector('#' + key);\n",
              "        const charts = await google.colab.kernel.invokeFunction(\n",
              "            'suggestCharts', [key], {});\n",
              "      }\n",
              "    </script>\n",
              "\n",
              "      <script>\n",
              "\n",
              "function displayQuickchartButton(domScope) {\n",
              "  let quickchartButtonEl =\n",
              "    domScope.querySelector('#df-19951c60-d703-4b9d-b1ba-5b7918354be1 button.colab-df-quickchart');\n",
              "  quickchartButtonEl.style.display =\n",
              "    google.colab.kernel.accessAllowed ? 'block' : 'none';\n",
              "}\n",
              "\n",
              "        displayQuickchartButton(document);\n",
              "      </script>\n",
              "      <style>\n",
              "    .colab-df-container {\n",
              "      display:flex;\n",
              "      flex-wrap:wrap;\n",
              "      gap: 12px;\n",
              "    }\n",
              "\n",
              "    .colab-df-convert {\n",
              "      background-color: #E8F0FE;\n",
              "      border: none;\n",
              "      border-radius: 50%;\n",
              "      cursor: pointer;\n",
              "      display: none;\n",
              "      fill: #1967D2;\n",
              "      height: 32px;\n",
              "      padding: 0 0 0 0;\n",
              "      width: 32px;\n",
              "    }\n",
              "\n",
              "    .colab-df-convert:hover {\n",
              "      background-color: #E2EBFA;\n",
              "      box-shadow: 0px 1px 2px rgba(60, 64, 67, 0.3), 0px 1px 3px 1px rgba(60, 64, 67, 0.15);\n",
              "      fill: #174EA6;\n",
              "    }\n",
              "\n",
              "    [theme=dark] .colab-df-convert {\n",
              "      background-color: #3B4455;\n",
              "      fill: #D2E3FC;\n",
              "    }\n",
              "\n",
              "    [theme=dark] .colab-df-convert:hover {\n",
              "      background-color: #434B5C;\n",
              "      box-shadow: 0px 1px 3px 1px rgba(0, 0, 0, 0.15);\n",
              "      filter: drop-shadow(0px 1px 2px rgba(0, 0, 0, 0.3));\n",
              "      fill: #FFFFFF;\n",
              "    }\n",
              "  </style>\n",
              "\n",
              "      <script>\n",
              "        const buttonEl =\n",
              "          document.querySelector('#df-d2330fa1-0049-40fd-b7ff-06ee333a810a button.colab-df-convert');\n",
              "        buttonEl.style.display =\n",
              "          google.colab.kernel.accessAllowed ? 'block' : 'none';\n",
              "\n",
              "        async function convertToInteractive(key) {\n",
              "          const element = document.querySelector('#df-d2330fa1-0049-40fd-b7ff-06ee333a810a');\n",
              "          const dataTable =\n",
              "            await google.colab.kernel.invokeFunction('convertToInteractive',\n",
              "                                                     [key], {});\n",
              "          if (!dataTable) return;\n",
              "\n",
              "          const docLinkHtml = 'Like what you see? Visit the ' +\n",
              "            '<a target=\"_blank\" href=https://colab.research.google.com/notebooks/data_table.ipynb>data table notebook</a>'\n",
              "            + ' to learn more about interactive tables.';\n",
              "          element.innerHTML = '';\n",
              "          dataTable['output_type'] = 'display_data';\n",
              "          await google.colab.output.renderOutput(dataTable, element);\n",
              "          const docLink = document.createElement('div');\n",
              "          docLink.innerHTML = docLinkHtml;\n",
              "          element.appendChild(docLink);\n",
              "        }\n",
              "      </script>\n",
              "    </div>\n",
              "  </div>\n"
            ]
          },
          "metadata": {},
          "execution_count": 4
        }
      ],
      "source": [
        "df1 = pd.read_csv('/content/startup_funding.csv')\n",
        "df = df1.copy()\n",
        "df.head()\n"
      ]
    },
    {
      "cell_type": "code",
      "execution_count": null,
      "metadata": {
        "colab": {
          "base_uri": "https://localhost:8080/"
        },
        "id": "9eLHaCmAJakO",
        "outputId": "ea1825c2-704d-4486-8de6-22e808d86058"
      },
      "outputs": [
        {
          "output_type": "execute_result",
          "data": {
            "text/plain": [
              "(3044, 10)"
            ]
          },
          "metadata": {},
          "execution_count": 5
        }
      ],
      "source": [
        "df.shape"
      ]
    },
    {
      "cell_type": "code",
      "execution_count": null,
      "metadata": {
        "id": "R0eRdeo-JakO"
      },
      "outputs": [],
      "source": [
        "df=df.rename(columns={'Date dd/mm/yyyy':'Date'})"
      ]
    },
    {
      "cell_type": "code",
      "execution_count": null,
      "metadata": {
        "scrolled": true,
        "colab": {
          "base_uri": "https://localhost:8080/"
        },
        "id": "nanN_OESJakQ",
        "outputId": "4aff1d82-c415-40e7-cde3-d99011be878f"
      },
      "outputs": [
        {
          "output_type": "execute_result",
          "data": {
            "text/plain": [
              "Sr No                   0\n",
              "Date                    0\n",
              "Startup Name            0\n",
              "Industry Vertical     171\n",
              "SubVertical           936\n",
              "City  Location        180\n",
              "Investors Name         24\n",
              "InvestmentnType         4\n",
              "Amount in USD         960\n",
              "Remarks              2625\n",
              "dtype: int64"
            ]
          },
          "metadata": {},
          "execution_count": 7
        }
      ],
      "source": [
        "df.isnull().sum()"
      ]
    },
    {
      "cell_type": "markdown",
      "metadata": {
        "id": "3LjpmEIlJakQ"
      },
      "source": [
        "### **1 . Checking the trend of investments by plotting number of fundings done in each year.**"
      ]
    },
    {
      "cell_type": "code",
      "execution_count": null,
      "metadata": {
        "colab": {
          "base_uri": "https://localhost:8080/"
        },
        "id": "CG-dwE-7JakQ",
        "outputId": "d15efdd4-67ad-45ed-ba15-6ff773dceb15"
      },
      "outputs": [
        {
          "output_type": "execute_result",
          "data": {
            "text/plain": [
              "dtype('O')"
            ]
          },
          "metadata": {},
          "execution_count": 8
        }
      ],
      "source": [
        "## need to extract year from Date column\n",
        "df.Date.dtype"
      ]
    },
    {
      "cell_type": "code",
      "execution_count": null,
      "metadata": {
        "id": "ZqyPhWUeJakR"
      },
      "outputs": [],
      "source": [
        "## to find out issues in Date column like . and // in place of / in some dates .\n",
        "unique_dates = df.Date.unique().tolist()\n",
        "##unique_dates"
      ]
    },
    {
      "cell_type": "code",
      "execution_count": null,
      "metadata": {
        "colab": {
          "base_uri": "https://localhost:8080/",
          "height": 648
        },
        "id": "iVXnTuP6JakS",
        "outputId": "a7e9efc0-5bfd-4c92-fff6-34a022234290"
      },
      "outputs": [
        {
          "output_type": "stream",
          "name": "stderr",
          "text": [
            "<ipython-input-10-3e953e741a10>:2: FutureWarning: The default value of regex will change from True to False in a future version. In addition, single character regular expressions will *not* be treated as literal strings when regex=True.\n",
            "  df.Date = df.Date.str.replace('.','/' )\n"
          ]
        },
        {
          "output_type": "display_data",
          "data": {
            "text/plain": [
              "<Figure size 640x480 with 1 Axes>"
            ],
            "image/png": "[encoded data removed]"
          },
          "metadata": {}
        },
        {
          "output_type": "stream",
          "name": "stdout",
          "text": [
            "Year :  015 , No. of fundings :  1\n",
            "Year :  2015 , No. of fundings :  935\n",
            "Year :  2016 , No. of fundings :  993\n",
            "Year :  2017 , No. of fundings :  687\n",
            "Year :  2018 , No. of fundings :  309\n",
            "Year :  2019 , No. of fundings :  111\n",
            "Year :  2020 , No. of fundings :  7\n"
          ]
        }
      ],
      "source": [
        "## removing issue in Date column\n",
        "df.Date = df.Date.str.replace('.','/' )\n",
        "df.Date = df.Date.str.replace('//','/')\n",
        "## extracting year from date column\n",
        "year = df.Date.str.split('/' , expand = True)[2]\n",
        "## sorting year in chronological order\n",
        "year =  year.value_counts().sort_index()\n",
        "x = year.index\n",
        "y = year.values\n",
        "## plotting line plot\n",
        "plt.plot(x,y)\n",
        "plt.title('Trend of investments')\n",
        "plt.xlabel(\"Year\")\n",
        "plt.ylabel(\"Number of Fundings\")\n",
        "plt.show()\n",
        "for i in range(7):\n",
        "    print('Year : ' , x[i],', No. of fundings : ' , y[i])"
      ]
    },
    {
      "cell_type": "markdown",
      "source": [
        "Note : that 015 is also a 2015 I think so"
      ],
      "metadata": {
        "id": "h1fnnw9K2R0b"
      }
    },
    {
      "cell_type": "markdown",
      "source": [
        "# By checking the trend of investments by plotting number of fundings done in each year we see that in year 2015 and 2016 there wrer lot of investment is done and after that its decreasing over the years."
      ],
      "metadata": {
        "id": "-4ibEyiu2d4U"
      }
    },
    {
      "cell_type": "markdown",
      "metadata": {
        "id": "naq0W0SSJakS"
      },
      "source": [
        "### **2. Top 10 Indian cities which have most number of startups .**"
      ]
    },
    {
      "cell_type": "code",
      "execution_count": null,
      "metadata": {
        "id": "wVINGMwhJakS",
        "outputId": "0d3aabed-4cea-452a-ae36-44bbeee0282a",
        "colab": {
          "base_uri": "https://localhost:8080/",
          "height": 70
        }
      },
      "outputs": [
        {
          "output_type": "execute_result",
          "data": {
            "text/plain": [
              "' On analysing CityLocation column i found some issues in city names\\n like bangalore and bangalore , Delhi and New delhi as shown.\\n Also for few startups multiple locations are given, one Indian and one Foreign. i have counted those startups\\n in Indian startup also after analysing the dataset.\\n '"
            ],
            "application/vnd.google.colaboratory.intrinsic+json": {
              "type": "string"
            }
          },
          "metadata": {},
          "execution_count": 11
        }
      ],
      "source": [
        "''' On analysing CityLocation column i found some issues in city names\n",
        " like bangalore and bangalore , Delhi and New delhi as shown.\n",
        " Also for few startups multiple locations are given, one Indian and one Foreign. i have counted those startups\n",
        " in Indian startup also after analysing the dataset.\n",
        " '''\n",
        "##df.CityLocation.unique().tolist()"
      ]
    },
    {
      "cell_type": "code",
      "source": [
        "print(df[\"City  Location\"].unique())"
      ],
      "metadata": {
        "colab": {
          "base_uri": "https://localhost:8080/"
        },
        "id": "YKdzq283Sa2P",
        "outputId": "0eb688bb-1bac-4cf0-92f1-b43242c8ed18"
      },
      "execution_count": null,
      "outputs": [
        {
          "output_type": "stream",
          "name": "stdout",
          "text": [
            "['Bangalore' 'Gurgaon' 'New Delhi' 'Mumbai' 'Chennai' 'Pune' 'Noida'\n",
            " 'Faridabad' 'San Francisco' 'San Jose,' 'Amritsar' 'Kormangala'\n",
            " 'Tulangan' 'Hyderabad' 'Burnsville' 'Menlo Park' 'Palo Alto'\n",
            " 'Santa Monica' 'Singapore' 'Taramani' 'Andheri' 'Chembur' 'Nairobi'\n",
            " 'Haryana' 'New York' 'Karnataka' 'Bhopal' 'Bengaluru And Gurugram'\n",
            " 'India' 'Jaipur' 'Nagpur' 'Indore' 'New York, Bengaluru' 'California'\n",
            " 'Ahemadabad' 'Rourkela' 'Srinagar' 'Bhubneswar' 'Chandigarh'\n",
            " 'Delhi & Cambridge' 'Kolkata' 'Coimbatore' 'Udaipur' nan 'Ahemdabad'\n",
            " 'Bhubaneswar' 'Ahmedabad' 'Surat' 'Goa' 'Uttar Pradesh' 'Gaya' 'Vadodara'\n",
            " 'Trivandrum' 'Missourie' 'Panaji' 'Gwalior' 'Karur' 'Udupi' 'Kochi'\n",
            " 'Agra' 'Hubli' 'Kerala' 'Kozhikode' 'Us' 'Siliguri' 'Usa' 'Lucknow'\n",
            " 'Kanpur' 'Sfo' 'London' 'Seattle' 'Varanasi' 'Jodhpur' 'Boston' 'Belgaum'\n",
            " 'Dallas']\n"
          ]
        }
      ]
    },
    {
      "cell_type": "code",
      "source": [
        "df['City  Location'] = df['City  Location'].str.replace(r'\\\\\\\\xc2\\\\\\\\xa0', ' ')  # Remove unnecessary characters\n",
        "df['City  Location'] = df['City  Location'].str.split('/', n=1).str[0]  # Split multiple locations and take the first one\n",
        "\n",
        "# Handle city name variations\n",
        "df['City  Location'] = df['City  Location'].str.strip().str.title()\n",
        "df['City  Location'] = df['City  Location'].replace(['Delhi','Nw Delhi'], 'New Delhi')\n",
        "df['City  Location'] = df['City  Location'].replace(['Bangalore', 'Bengaluru',], 'Bangalore')\n",
        "df['City  Location'] = df['City  Location'].replace(['Gurgaon', 'Gurugram',], 'Gurgaon')\n",
        "df['City  Location'] = df['City  Location'].replace(['Kolkatta' ,'Kolkata'],'Kolkata')\n",
        "# Count the number of startups in each city\n",
        "city_counts = df['City  Location'].value_counts()\n",
        "\n",
        "# Find top 10 Indian cities with most startups\n",
        "top_10_cities = city_counts.head(10)\n",
        "\n",
        "# Plot a pie chart\n",
        "import matplotlib.pyplot as plt\n",
        "\n",
        "plt.figure(figsize=(10, 6))\n",
        "plt.pie(top_10_cities, labels=top_10_cities.index, autopct='%1.1f%%')\n",
        "plt.title('Top 10 Indian Cities with Most Startups')\n",
        "plt.axis('equal')\n",
        "plt.show()\n",
        "\n",
        "# Print city names and number of startups in descending order\n",
        "print(top_10_cities)"
      ],
      "metadata": {
        "colab": {
          "base_uri": "https://localhost:8080/",
          "height": 753
        },
        "id": "gwKmoqudTcg1",
        "outputId": "d39022ac-c32c-4138-ce9f-53d940815220"
      },
      "execution_count": null,
      "outputs": [
        {
          "output_type": "stream",
          "name": "stderr",
          "text": [
            "<ipython-input-15-ff5d7897964b>:1: FutureWarning: The default value of regex will change from True to False in a future version.\n",
            "  df['City  Location'] = df['City  Location'].str.replace(r'\\\\\\\\xc2\\\\\\\\xa0', ' ')  # Remove unnecessary characters\n"
          ]
        },
        {
          "output_type": "display_data",
          "data": {
            "text/plain": [
              "<Figure size 1000x600 with 1 Axes>"
            ],
            "image/png": "[encoded data removed]"
          },
          "metadata": {}
        },
        {
          "output_type": "stream",
          "name": "stdout",
          "text": [
            "Bangalore    849\n",
            "Mumbai       573\n",
            "New Delhi    463\n",
            "Gurgaon      342\n",
            "Pune         112\n",
            "Hyderabad    100\n",
            "Chennai       98\n",
            "Noida         94\n",
            "Ahmedabad     38\n",
            "Jaipur        30\n",
            "Name: City  Location, dtype: int64\n"
          ]
        }
      ]
    },
    {
      "cell_type": "markdown",
      "source": [
        "# The Top 10 Indian cities which have most number of startups are\n",
        "Bangalore  ,  Mumbai ,      New Delhi,    Gurgaon,      Pune,       Hyderabad   , Chennai    ,   Noida     ,    Ahmedabad   ,  Jaipur.      "
      ],
      "metadata": {
        "id": "OM19zptu3GXY"
      }
    },
    {
      "cell_type": "markdown",
      "metadata": {
        "id": "b-2gEYIlJakT"
      },
      "source": [
        "### **3 .  Top 10 Indian cities with most amount of fundings received. Also calculating percentage of funding each city has got (among top 10 Indian cities only).**"
      ]
    },
    {
      "cell_type": "code",
      "source": [
        "df=df.rename(columns={'Amount in USD':'AmountInUSD'})"
      ],
      "metadata": {
        "id": "4202GNleXrBt"
      },
      "execution_count": null,
      "outputs": []
    },
    {
      "cell_type": "markdown",
      "source": [
        "Answer 1 :"
      ],
      "metadata": {
        "id": "bQpnhaH7nSqj"
      }
    },
    {
      "cell_type": "code",
      "source": [
        "# Filtering out non-Indian cities\n",
        "indian_cities = ['Bangalore', 'Mumbai', 'Gurgaon', 'New Delhi', 'Noida', 'Chennai', 'Pune', 'Hyderabad', 'Ahmedabad', 'Jaipur']\n",
        "df_indian_cities = df[df['City  Location'].isin(indian_cities)]\n",
        "\n",
        "# Grouping by city and calculating the total amount of funding received by each Indian city\n",
        "city_amount = df_indian_cities.groupby('City  Location')['AmountInUSD'].sum().sort_values(ascending=False)[:10]\n",
        "city = city_amount.index\n",
        "amountCity = city_amount.values\n",
        "\n",
        "# Calculating the percentage of funding each city has received\n",
        "perAmount = np.true_divide(amountCity, amountCity.sum()) * 100\n",
        "\n",
        "# Printing the top 10 Indian cities with the most amount of funding received and their respective percentages\n",
        "for i in range(len(city)):\n",
        "    print(city[i], format(perAmount[i], '.2f'), '%')\n"
      ],
      "metadata": {
        "colab": {
          "base_uri": "https://localhost:8080/"
        },
        "id": "AcI1DRVUmdLU",
        "outputId": "204aa060-4726-4c0a-a93b-34b9923a0fa2"
      },
      "execution_count": null,
      "outputs": [
        {
          "output_type": "stream",
          "name": "stdout",
          "text": [
            "Bangalore 60.30 %\n",
            "Mumbai 16.10 %\n",
            "Gurgaon 12.62 %\n",
            "Noida 4.12 %\n",
            "Chennai 2.34 %\n",
            "Pune 2.34 %\n",
            "Hyderabad 1.31 %\n",
            "Jaipur 0.50 %\n",
            "Ahmedabad 0.37 %\n"
          ]
        }
      ]
    },
    {
      "cell_type": "markdown",
      "source": [
        "Answer 2 :"
      ],
      "metadata": {
        "id": "cgulq8sXnXaa"
      }
    },
    {
      "cell_type": "code",
      "source": [
        "# Assuming you have already executed the previous code and obtained the DataFrame 'df'\n",
        "\n",
        "# Grouping by city and calculating the total amount of funding received by each city\n",
        "city_amount = df.groupby('City  Location')['AmountInUSD'].sum().sort_values(ascending=False)[:10]\n",
        "city = city_amount.index\n",
        "amountCity = city_amount.values\n",
        "\n",
        "# Calculating the percentage of funding each city has received\n",
        "perAmount = np.true_divide(amountCity, amountCity.sum()) * 100\n",
        "\n",
        "# Printing the top 10 Indian cities with the most amount of funding received and their respective percentages\n",
        "for i in range(len(city)):\n",
        "    print(city[i], format(perAmount[i], '.2f'), '%')\n"
      ],
      "metadata": {
        "colab": {
          "base_uri": "https://localhost:8080/"
        },
        "id": "0jd--49ZmBkC",
        "outputId": "9140e896-e204-41f4-9ff9-96c91576d371"
      },
      "execution_count": null,
      "outputs": [
        {
          "output_type": "stream",
          "name": "stdout",
          "text": [
            "Bangalore 53.51 %\n",
            "Mumbai 14.29 %\n",
            "Gurgaon 11.20 %\n",
            "New New Delhi 9.72 %\n",
            "Noida 3.65 %\n",
            "Chennai 2.08 %\n",
            "Pune 2.08 %\n",
            "Menlo Park 1.30 %\n",
            "Hyderabad 1.16 %\n",
            "India 1.01 %\n"
          ]
        }
      ]
    },
    {
      "cell_type": "markdown",
      "source": [
        "# From above two diffrent answer we get the  Top 10 Indian cities with most amount of fundings received so take the as per our convience for the task."
      ],
      "metadata": {
        "id": "xy8JOxdd3x2-"
      }
    },
    {
      "cell_type": "markdown",
      "metadata": {
        "id": "foZKqZ1aJakT"
      },
      "source": [
        "### **4. Percentage of amount funded for each investment type ( there are 4 investment types).**"
      ]
    },
    {
      "cell_type": "code",
      "execution_count": null,
      "metadata": {
        "id": "uNF_rIFiJakT",
        "colab": {
          "base_uri": "https://localhost:8080/"
        },
        "outputId": "17beb190-1616-41f6-ec48-3dcc9a92aa8d"
      },
      "outputs": [
        {
          "output_type": "execute_result",
          "data": {
            "text/plain": [
              "array(['Private Equity Round', 'Series C', 'Series B', 'Pre-series A',\n",
              "       'Seed Round', 'Series A', 'Series D', 'Seed', 'Series F',\n",
              "       'Series E', 'Debt Funding', 'Series G', 'Series H', 'Venture',\n",
              "       'Seed Funding', nan, 'Funding Round', 'Corporate Round',\n",
              "       'Maiden Round', 'pre-series A', 'Seed Funding Round',\n",
              "       'Single Venture', 'Venture Round', 'Pre-Series A', 'Angel',\n",
              "       'Series J', 'Angel Round', 'pre-Series A',\n",
              "       'Venture - Series Unknown', 'Bridge Round', 'Private Equity',\n",
              "       'Debt and Preference capital', 'Inhouse Funding',\n",
              "       'Seed/ Angel Funding', 'Debt', 'Pre Series A', 'Equity',\n",
              "       'Debt-Funding', 'Mezzanine', 'Series B (Extension)',\n",
              "       'Equity Based Funding', 'Private Funding', 'Seed / Angel Funding',\n",
              "       'Seed/Angel Funding', 'Seed funding', 'Seed / Angle Funding',\n",
              "       'Angel / Seed Funding', 'Private', 'Structured Debt', 'Term Loan',\n",
              "       'PrivateEquity', 'Angel Funding', 'Seed\\\\\\\\nFunding',\n",
              "       'Private\\\\\\\\nEquity', 'Crowd funding', 'Crowd Funding'],\n",
              "      dtype=object)"
            ]
          },
          "metadata": {},
          "execution_count": 45
        }
      ],
      "source": [
        "df['InvestmentnType'].unique()"
      ]
    },
    {
      "cell_type": "code",
      "source": [
        "unique_investment_types = ['Private Equity Round', 'Series C', 'Series B', 'Pre-series A',\n",
        "                           'Seed Round', 'Series A', 'Series D', 'Seed', 'Series F',\n",
        "                           'Series E', 'Debt Funding', 'Series G', 'Series H', 'Venture',\n",
        "                           'Seed Funding', None, 'Funding Round', 'Corporate Round',\n",
        "                           'Maiden Round', 'pre-series A', 'Seed Funding Round',\n",
        "                           'Single Venture', 'Venture Round', 'Pre-Series A', 'Angel',\n",
        "                           'Series J', 'Angel Round', 'pre-Series A',\n",
        "                           'Venture - Series Unknown', 'Bridge Round', 'Private Equity',\n",
        "                           'Debt and Preference capital', 'Inhouse Funding',\n",
        "                           'Seed/ Angel Funding', 'Debt', 'Pre Series A', 'Equity',\n",
        "                           'Debt-Funding', 'Mezzanine', 'Series B (Extension)',\n",
        "                           'Equity Based Funding', 'Private Funding', 'Seed / Angel Funding',\n",
        "                           'Seed/Angel Funding', 'Seed funding', 'Seed / Angle Funding',\n",
        "                           'Angel / Seed Funding', 'Private', 'Structured Debt', 'Term Loan',\n",
        "                           'PrivateEquity', 'Angel Funding', 'Seed\\\\\\\\nFunding',\n",
        "                           'Private\\\\\\\\nEquity', 'Crowd funding', 'Crowd Funding']\n",
        "\n",
        "# Mapping dictionary to categorize investment types\n",
        "investment_mapping = {\n",
        "    'Private Equity': ['Private Equity Round', 'Private Equity', 'PrivateEquity', 'Private','Series C', 'Series B', 'Pre-series A',\n",
        "       'Series A', 'Series D',  'Series F',\n",
        "       'Series E',  'Series G', 'Series H', 'Venture',\n",
        "       'Funding Round', 'Corporate Round',\n",
        "       'Maiden Round', 'pre-series A',\n",
        "       'Single Venture', 'Venture Round', 'Pre-Series A', 'Angel',\n",
        "       'Series J', 'Angel Round', 'pre-Series A',\n",
        "       'Venture - Series Unknown', 'Bridge Round',\n",
        "        'Inhouse Funding',\n",
        "        'Pre Series A', 'Equity','Mezzanine', 'Series B (Extension)'],\n",
        "    'Seed Funding': ['Seed Round', 'Seed', 'Seed Funding', 'Seed Funding Round', 'Seed\\\\\\\\nFunding', 'Seed/ Angel Funding',\n",
        "                     'Seed / Angel Funding', 'Seed\\\\\\\\nFunding', 'Seed / Angle Funding', 'Seed / Angel Funding',\n",
        "                     'Seed/Angel Funding', 'Angel / Seed Funding'],\n",
        "    'Debt Funding': ['Debt Funding', 'Debt and Preference capital', 'Debt-Funding', 'Debt', 'Structured Debt', 'Term Loan'],\n",
        "    'Crowd Funding': ['Crowd funding', 'Crowd Funding']\n",
        "}\n",
        "\n",
        "\n",
        "def categorize_investment_type(type):\n",
        "    for category, types_list in investment_mapping.items():\n",
        "        if type in types_list:\n",
        "            return category\n",
        "    return None\n",
        "\n",
        "df['InvestmentCategory'] = df['InvestmentnType'].apply(categorize_investment_type)\n",
        "\n",
        "# Calculate the percentage of amount funded for each investment category\n",
        "category_amount = df.groupby('InvestmentCategory')['AmountInUSD'].sum()\n",
        "total_amount_funded = category_amount.sum()\n",
        "category_percent = (category_amount / total_amount_funded) * 100\n",
        "\n",
        "# Sort the investment types in descending order based on the percentage of amount funded\n",
        "sorted_categories = category_percent.sort_values(ascending=False)\n",
        "\n",
        "# Print the investment type and percentage of amount funded with 2 decimal places after rounding off\n",
        "for category, percent in sorted_categories.iteritems():\n",
        "    print(category, format(percent, '.2f'), '%')\n",
        "\n",
        "# Plot a pie chart to visualize the percentage of amount funded for each investment category\n",
        "plt.figure(figsize=(8, 8))\n",
        "plt.pie(sorted_categories, labels=sorted_categories.index, autopct='%1.1f%%')\n",
        "plt.title('Percentage of Amount Funded for Each Investment Category')\n",
        "plt.axis('equal')\n",
        "plt.show()"
      ],
      "metadata": {
        "colab": {
          "base_uri": "https://localhost:8080/",
          "height": 779
        },
        "id": "s53DTBGRv3Sc",
        "outputId": "0a248e46-0d1e-4c9b-c851-06e5028a1800"
      },
      "execution_count": null,
      "outputs": [
        {
          "output_type": "stream",
          "name": "stdout",
          "text": [
            "Private Equity 96.74 %\n",
            "Seed Funding 2.79 %\n",
            "Debt Funding 0.47 %\n",
            "Crowd Funding 0.00 %\n"
          ]
        },
        {
          "output_type": "stream",
          "name": "stderr",
          "text": [
            "<ipython-input-54-b20da6cf124c>:55: FutureWarning: iteritems is deprecated and will be removed in a future version. Use .items instead.\n",
            "  for category, percent in sorted_categories.iteritems():\n"
          ]
        },
        {
          "output_type": "display_data",
          "data": {
            "text/plain": [
              "<Figure size 800x800 with 1 Axes>"
            ],
            "image/png": "[encoded data removed]"
          },
          "metadata": {}
        }
      ]
    },
    {
      "cell_type": "markdown",
      "source": [
        "#Private Equity 96.74 % ,Seed Funding 2.79 %, Debt Funding 0.47 %, Crowd Funding 0.00 %."
      ],
      "metadata": {
        "id": "kgUsEbAB4Dq2"
      }
    },
    {
      "cell_type": "markdown",
      "metadata": {
        "id": "LC77WE9gJakU"
      },
      "source": [
        "### **5. Top 5 industries and percentage of the total amount funded to that industry. (among top 5 only)**"
      ]
    },
    {
      "cell_type": "code",
      "execution_count": null,
      "metadata": {
        "id": "O47gA_G2JakU"
      },
      "outputs": [],
      "source": [
        "## finding title and non-title case issue in industry name as shown.\n",
        "##df.IndustryVertical.unique().tolist()"
      ]
    },
    {
      "cell_type": "code",
      "execution_count": null,
      "metadata": {
        "id": "tBSlW-FoJakV",
        "outputId": "17b14dc0-7819-46ed-bfb6-f3604618cbea",
        "colab": {
          "base_uri": "https://localhost:8080/"
        }
      },
      "outputs": [
        {
          "output_type": "stream",
          "name": "stdout",
          "text": [
            "Ecommerce 33.27\n",
            "Consumer Internet 29.04\n",
            "Transportation 18.19\n",
            "Technology 10.35\n",
            "Finance 9.15\n"
          ]
        }
      ],
      "source": [
        "##correcting the above stated issue.\n",
        "df['Industry Vertical'].replace(\"ECommerce\",\"Ecommerce\", inplace = True)\n",
        "df['Industry Vertical'].replace(\"eCommerce\",\"Ecommerce\", inplace = True)\n",
        "df['Industry Vertical'].replace(\"ecommerce\",\"Ecommerce\", inplace = True)\n",
        "\n",
        "## converting amount to int type\n",
        "df.AmountInUSD = df.AmountInUSD.apply(lambda x : float(str(x).replace(',','')))\n",
        "df.AmountInUSD = pd.to_numeric(df.AmountInUSD)\n",
        "\n",
        "##calculating industry wise amount\n",
        "ivc = df.groupby('Industry Vertical')['AmountInUSD'].sum().sort_values(ascending = False)[0:5]\n",
        "industry = ivc.index\n",
        "amount = ivc.values\n",
        "## calculating the percentage of total amount funded .\n",
        "per = np.true_divide(amount  , amount.sum())*100\n",
        "\n",
        "for i in range(5):\n",
        "    print(industry[i] , format(per[i] , '.2f'))\n",
        "\n",
        "\n"
      ]
    },
    {
      "cell_type": "markdown",
      "source": [
        "# Ecommerce (33.27) ,Consumer Internet (29.04) ,Transportation (18.19) ,Technology (10.35) ,Finance (9.15)\n"
      ],
      "metadata": {
        "id": "9E7M3Gfi4Vg6"
      }
    },
    {
      "cell_type": "markdown",
      "metadata": {
        "id": "ygoI4unzJakW"
      },
      "source": [
        "### **6. Top 5 startups with most amount of total funding**"
      ]
    },
    {
      "cell_type": "code",
      "execution_count": null,
      "metadata": {
        "id": "duZhYPubJakX"
      },
      "outputs": [],
      "source": [
        "## Correcting names of Ola, Flipkart, Oyo, Paytm startups .\n",
        "## below way works only when there are no NaN values , so to use this technique with other columns , drop NaN from\n",
        "## those columns\n",
        "##for i in np.unique(sorted(df.StartupName)):\n",
        "##    print(i)"
      ]
    },
    {
      "cell_type": "code",
      "source": [
        "import pandas as pd\n",
        "\n",
        "# Assuming you have already read the data into df1\n",
        "reader = df1.copy()\n",
        "\n",
        "# Correcting names\n",
        "reader['Startup Name'].replace({\n",
        "    \"Flipkart.com\": \"Flipkart\",\n",
        "    \"Ola Cabs\": \"Ola\",\n",
        "    \"Olacabs\": \"Ola\",\n",
        "    \"OYO Rooms\": \"Oyo\",\n",
        "    \"Oyo Rooms\": \"Oyo\",\n",
        "    \"OyoRooms\": \"Oyo\",\n",
        "    \"Oyorooms\": \"Oyo\",\n",
        "    \"Paytm Marketplace\": \"Paytm\"\n",
        "}, inplace=True)\n",
        "\n",
        "# Converting amount column to int\n",
        "reader['Amount in USD'] = reader['Amount in USD'].str.replace(',', '')\n",
        "reader['Amount in USD'] = pd.to_numeric(reader['Amount in USD'], errors='coerce')\n",
        "\n",
        "# Drop rows with NaN in 'Amount in USD' column\n",
        "reader.dropna(subset=['Amount in USD'], inplace=True)\n",
        "\n",
        "# Startup wise calculating amount.\n",
        "invest = reader.groupby('Startup Name')['Amount in USD'].sum().sort_values(ascending=False)\n",
        "print('Top 5 startups with most amount of funding in descending order are as follows:')\n",
        "for i in range(5):\n",
        "    print(invest.index[i])\n"
      ],
      "metadata": {
        "colab": {
          "base_uri": "https://localhost:8080/"
        },
        "id": "CfPuXPqP06DT",
        "outputId": "89b06140-d396-4cf3-c728-1bf096a49308"
      },
      "execution_count": null,
      "outputs": [
        {
          "output_type": "stream",
          "name": "stdout",
          "text": [
            "Top 5 startups with most amount of funding in descending order are as follows:\n",
            "Flipkart\n",
            "Rapido Bike Taxi\n",
            "Paytm\n",
            "Ola\n",
            "Oyo\n"
          ]
        }
      ]
    },
    {
      "cell_type": "markdown",
      "source": [
        "#Top 5 startups with most amount of funding in descending order are as follows:\n",
        "Flipkart,\n",
        "Rapido Bike Taxi,\n",
        "Paytm,\n",
        "Ola,\n",
        "Oyo."
      ],
      "metadata": {
        "id": "URhMWh1w4qAv"
      }
    },
    {
      "cell_type": "markdown",
      "metadata": {
        "id": "prcTTKygJakY"
      },
      "source": [
        "### **7. Top 5 startups that received the most number of funding rounds.(i.e. funding most number of times)**"
      ]
    },
    {
      "cell_type": "code",
      "execution_count": null,
      "metadata": {
        "id": "IOp1BxNhJakY",
        "outputId": "b39d24b3-4300-4c42-85de-9def86b3de95",
        "colab": {
          "base_uri": "https://localhost:8080/"
        }
      },
      "outputs": [
        {
          "output_type": "stream",
          "name": "stdout",
          "text": [
            "Ola 12\n",
            "Oyo 9\n",
            "Swiggy 8\n",
            "Paytm 6\n",
            "Flipkart 6\n"
          ]
        }
      ],
      "source": [
        "## reader is the dataframe object\n",
        "startup_number = reader['Startup Name'].value_counts()\n",
        "su = startup_number.index\n",
        "val = startup_number.values\n",
        "for i in range(5):\n",
        "    print(su[i] , val[i])\n"
      ]
    },
    {
      "cell_type": "markdown",
      "source": [
        "# Top  startup that received the most number of funding roundsOla"
      ],
      "metadata": {
        "id": "jpjtcKZn4xGG"
      }
    },
    {
      "cell_type": "markdown",
      "source": [
        "#Extra insights"
      ],
      "metadata": {
        "id": "oU_RUa6049MV"
      }
    },
    {
      "cell_type": "markdown",
      "metadata": {
        "id": "2hE9FVmuJakY"
      },
      "source": [
        "### **8 .The Investor who have invested maximum number of times.**"
      ]
    },
    {
      "cell_type": "code",
      "source": [
        "# Removing rows having NA value in InvestorsName column\n",
        "df = df[pd.notna(df['Investors Name'])]\n",
        "\n",
        "inv_name = df['Investors Name']\n",
        "\n",
        "# A dictionary to store the count of how many times an investor has invested.\n",
        "d = {}\n",
        "for row in inv_name.iteritems():\n",
        "    # As row[0] will contain row label, we use row[1] to get the Investor's name and then split it.\n",
        "    v = row[1].split(',')\n",
        "    for i in v:\n",
        "        i = i.strip()\n",
        "        d[i] = d.get(i, 0) + 1\n",
        "\n",
        "ans = -1\n",
        "val = ''\n",
        "for v in d:\n",
        "    if d[v] > ans:\n",
        "        ans = d[v]\n",
        "        val = v\n",
        "\n",
        "print(val, ':', int(ans), 'times')\n"
      ],
      "metadata": {
        "colab": {
          "base_uri": "https://localhost:8080/"
        },
        "id": "T0Y2IQpx2B-a",
        "outputId": "d18229df-e424-466f-ad8e-30f7f3d01820"
      },
      "execution_count": null,
      "outputs": [
        {
          "output_type": "stream",
          "name": "stdout",
          "text": [
            "Sequoia Capital : 72 times\n"
          ]
        },
        {
          "output_type": "stream",
          "name": "stderr",
          "text": [
            "<ipython-input-69-50bdb9a0e77a>:8: FutureWarning: iteritems is deprecated and will be removed in a future version. Use .items instead.\n",
            "  for row in inv_name.iteritems():\n"
          ]
        }
      ]
    }
  ],
  "metadata": {
    "kernelspec": {
      "display_name": "Python 3 (ipykernel)",
      "language": "python",
      "name": "python3"
    },
    "language_info": {
      "codemirror_mode": {
        "name": "ipython",
        "version": 3
      },
      "file_extension": ".py",
      "mimetype": "text/x-python",
      "name": "python",
      "nbconvert_exporter": "python",
      "pygments_lexer": "ipython3",
      "version": "3.9.13"
    },
    "colab": {
      "provenance": []
    }
  },
  "nbformat": 4,
  "nbformat_minor": 0
}